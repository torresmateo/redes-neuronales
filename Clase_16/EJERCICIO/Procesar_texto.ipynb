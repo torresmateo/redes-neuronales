{
 "cells": [
  {
   "cell_type": "markdown",
   "metadata": {
    "colab_type": "text",
    "id": "c9lfzOJdb0SD"
   },
   "source": [
    "<a href=\"https://colab.research.google.com/github/torresmateo/redes-neuronales/blob/master/Clase_16/EJERCICIO/Procesar_texto.ipynb\" target=\"_parent\">\n",
    "  <img src=\"https://colab.research.google.com/assets/colab-badge.svg\" alt=\"Open In Colab\"/>\n",
    "</a>\n",
    "\n",
    "# Procesando texto.\n",
    "\n",
    "Los siguientes ejercicios están diseñados para experimentar el procesamiento de datos textuales en TensorFlow.\n",
    "\n",
    "Antes que nada, importamos las bibliotecas y funciones necesarias."
   ]
  },
  {
   "cell_type": "code",
   "execution_count": null,
   "metadata": {
    "colab": {
     "base_uri": "https://localhost:8080/",
     "height": 34
    },
    "colab_type": "code",
    "id": "-74V3ZEibsM1",
    "outputId": "97a64a99-2ad4-4753-b9af-e6e02419b0fc"
   },
   "outputs": [
    {
     "name": "stdout",
     "output_type": "stream",
     "text": [
      "TensorFlow 2.x selected.\n"
     ]
    }
   ],
   "source": [
    "%tensorflow_version 2.x\n",
    "import tensorflow as tf\n",
    "from tensorflow.keras.preprocessing.sequence import pad_sequences"
   ]
  },
  {
   "cell_type": "markdown",
   "metadata": {
    "colab_type": "text",
    "id": "08pz7UgIcL5A"
   },
   "source": [
    "# Ejercicio 1 - corpus\n",
    " Escribe (O busca en Internet) un conjunto de oraciones, este será el corpus por el resto del ejercicio. El formato correcto es una lista de python que contenga un `str` por oración.\n",
    "\n",
    " **Tip:** una forma rápida de crear la lista es utilizando la función `split` "
   ]
  },
  {
   "cell_type": "code",
   "execution_count": null,
   "metadata": {
    "colab": {},
    "colab_type": "code",
    "id": "tiSX3k0jcLYv"
   },
   "outputs": [],
   "source": [
    "corpus = ['La guitarra',\n",
    "          'hace llorar a los sueños.',\n",
    "          'El sollozo de las almas',\n",
    "          'perdidas',\n",
    "          'se escapa por su boca',\n",
    "          'redonda.',\n",
    "          'Y como la tarántula,',\n",
    "          'teje una gran estrella',\n",
    "          'para cazar suspiros,',\n",
    "          'que flotan en su negro',\n",
    "          'aljibe de madera.'] #  Las seis cuerdas (Federico García Lorca)\n",
    "# tu código aquí (~2-15 líneas)"
   ]
  },
  {
   "cell_type": "markdown",
   "metadata": {
    "colab_type": "text",
    "id": "Jd_HhZekdFME"
   },
   "source": [
    "# Ejercicio 2 - Tokenizar el corpus\n",
    "\n",
    "Escribe un tokenizador para codificar el corpus. Luego, imprime el vocabulario\n",
    "\n",
    "Note que el índice 1 no siempre es la primera palabra del corpus ¿Cuál te parece una buena explicación para esto?"
   ]
  },
  {
   "cell_type": "code",
   "execution_count": null,
   "metadata": {
    "colab": {},
    "colab_type": "code",
    "id": "rvQXnTwscjxL"
   },
   "outputs": [],
   "source": [
    "# tu código aquí (~5 líneas)"
   ]
  },
  {
   "cell_type": "markdown",
   "metadata": {
    "colab_type": "text",
    "id": "rzcL3bwgf5Xe"
   },
   "source": [
    "# Ejercicio 3 - generar una lista de secuencias\n",
    "\n",
    "Usa el tokenizador para transformar el corpus en una lista de secuencias numérica."
   ]
  },
  {
   "cell_type": "code",
   "execution_count": null,
   "metadata": {
    "colab": {},
    "colab_type": "code",
    "id": "RJsnuRh8gDGc"
   },
   "outputs": [],
   "source": [
    "# tu código aquí (~1 línea)"
   ]
  },
  {
   "cell_type": "markdown",
   "metadata": {
    "colab_type": "text",
    "id": "WVUrPRDAgGvq"
   },
   "source": [
    "# Ejercicio 4 - Limitaciones al tokenizador\n",
    "\n",
    "Explora los resultados de limitar el vocabulario a un número de palabras menos al que ocurre naturalmente en el corpus. Responde las siguientes preguntas\n",
    "\n",
    "* ¿Qué efecto tiene esta limitación en las secuencias generadas?\n",
    "* ¿Si las secuencias generadas con el vocabulario reducido se vuelven a convertir a texto, que pasa?\n",
    "\n"
   ]
  },
  {
   "cell_type": "code",
   "execution_count": null,
   "metadata": {
    "colab": {},
    "colab_type": "code",
    "id": "gjh5ek_GgGFt"
   },
   "outputs": [],
   "source": [
    "# crear un nuevo tokenizador limitado \n",
    "# tu código aquí (~5 líneas)\n",
    "\n",
    "# transformar el corpus a una lista de secuencias numéricas \n",
    "# tu código aquí (~1 línea)\n",
    "\n",
    "# transformar la lista de secuencia a una lista de textos (NO SOBREREESCRIBIR EL CORPUS)\n",
    "# tu código aquí (~1 línea)"
   ]
  },
  {
   "cell_type": "markdown",
   "metadata": {
    "colab_type": "text",
    "id": "uGq3aCxzhAHf"
   },
   "source": [
    "La siguiente celda está vacía para que pueda explorar el texto como desee."
   ]
  },
  {
   "cell_type": "code",
   "execution_count": null,
   "metadata": {
    "colab": {},
    "colab_type": "code",
    "id": "d6SCDcjVhGeM"
   },
   "outputs": [],
   "source": []
  },
  {
   "cell_type": "markdown",
   "metadata": {
    "colab_type": "text",
    "id": "DutgfV-dhHv9"
   },
   "source": [
    "# Ejercicio 5 - Ejemplos fuera del texto.\n",
    "\n",
    "Usa el tokenizador para codificar un texto con alguna palabra nueva, ¿cuál es el resultado?"
   ]
  },
  {
   "cell_type": "code",
   "execution_count": null,
   "metadata": {
    "colab": {},
    "colab_type": "code",
    "id": "N9rlz5KnjOVu"
   },
   "outputs": [],
   "source": [
    "# tu código aquí (~ 2 líneas)"
   ]
  },
  {
   "cell_type": "markdown",
   "metadata": {
    "colab_type": "text",
    "id": "3fcfE8aEjz2Y"
   },
   "source": [
    "# Ejercicio 6 - OOV tokens\n",
    "\n",
    "Crea un tokenizer que establezca un valor para valores fuera del vocabulario, y entrenalo con el corpus original. \n",
    "\n",
    "Luego, prueba codificar un texto con palabras fuera del vocabulario."
   ]
  },
  {
   "cell_type": "code",
   "execution_count": null,
   "metadata": {
    "colab": {},
    "colab_type": "code",
    "id": "3gG-HYmhkGCl"
   },
   "outputs": [],
   "source": [
    "# tu código aquí (~5 líneas)"
   ]
  },
  {
   "cell_type": "markdown",
   "metadata": {
    "colab_type": "text",
    "id": "h-_pBnhuxBvm"
   },
   "source": [
    "# Ejercicio 7 - Estandarizar el texto\n",
    "\n",
    "Termine el pre-procesamiento del texto haciendo que todos los ejemplos tengan una longitud uniforme."
   ]
  },
  {
   "cell_type": "code",
   "execution_count": null,
   "metadata": {
    "colab": {},
    "colab_type": "code",
    "id": "51ufkRAHyYut"
   },
   "outputs": [],
   "source": [
    "# su código aquí (~1ínea)"
   ]
  }
 ],
 "metadata": {
  "colab": {
   "name": "Procesar Texto",
   "provenance": []
  },
  "kernelspec": {
   "display_name": "Python 3",
   "language": "python",
   "name": "python3"
  },
  "language_info": {
   "codemirror_mode": {
    "name": "ipython",
    "version": 3
   },
   "file_extension": ".py",
   "mimetype": "text/x-python",
   "name": "python",
   "nbconvert_exporter": "python",
   "pygments_lexer": "ipython3",
   "version": "3.8.5"
  }
 },
 "nbformat": 4,
 "nbformat_minor": 4
}
