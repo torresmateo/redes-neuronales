{
 "cells": [
  {
   "cell_type": "code",
   "execution_count": 4,
   "metadata": {},
   "outputs": [],
   "source": [
    "import pandas as pd\n",
    "import matplotlib.pyplot as plt\n",
    "import numpy as np\n",
    "import seaborn as sns"
   ]
  },
  {
   "cell_type": "code",
   "execution_count": 3,
   "metadata": {},
   "outputs": [],
   "source": [
    "train = pd.read_csv('facial-keypoints-detection/training.csv')\n",
    "test = pd.read_csv('facial-keypoints-detection/test.csv')"
   ]
  },
  {
   "cell_type": "code",
   "execution_count": 12,
   "metadata": {},
   "outputs": [],
   "source": [
    "def text_to_numpy(s):\n",
    "    return np.array([int(x) for x in s.split()]).reshape((96,96))"
   ]
  },
  {
   "cell_type": "code",
   "execution_count": 13,
   "metadata": {},
   "outputs": [],
   "source": [
    "train['image_np'] = train['Image'].apply(lambda x: text_to_numpy(x))"
   ]
  },
  {
   "cell_type": "code",
   "execution_count": 18,
   "metadata": {},
   "outputs": [],
   "source": [
    "keypoints = [('left_eye_center_x', 'left_eye_center_y'), \n",
    "             ('right_eye_center_x', 'right_eye_center_y'), \n",
    "             ('left_eye_inner_corner_x', 'left_eye_inner_corner_y'),\n",
    "             ('left_eye_outer_corner_x', 'left_eye_outer_corner_y'), \n",
    "             ('right_eye_inner_corner_x', 'right_eye_inner_corner_y'),\n",
    "             ('right_eye_outer_corner_x', 'right_eye_outer_corner_y'),\n",
    "             ('left_eyebrow_inner_end_x', 'left_eyebrow_inner_end_y'),\n",
    "             ('left_eyebrow_outer_end_x', 'left_eyebrow_outer_end_y'),\n",
    "             ('right_eyebrow_inner_end_x', 'right_eyebrow_inner_end_y'),\n",
    "             ('right_eyebrow_outer_end_x', 'right_eyebrow_outer_end_y'), \n",
    "             ('nose_tip_x', 'nose_tip_y'),\n",
    "             ('mouth_left_corner_x', 'mouth_left_corner_y'), \n",
    "             ('mouth_right_corner_x', 'mouth_right_corner_y'), \n",
    "             ('mouth_center_top_lip_x', 'mouth_center_top_lip_y'), \n",
    "             ('mouth_center_bottom_lip_x','mouth_center_bottom_lip_y')]"
   ]
  },
  {
   "cell_type": "code",
   "execution_count": 22,
   "metadata": {},
   "outputs": [
    {
     "data": {
      "image/png": "[encoded data removed]",
      "text/plain": [
       "<Figure size 720x720 with 1 Axes>"
      ]
     },
     "metadata": {
      "needs_background": "light"
     },
     "output_type": "display_data"
    }
   ],
   "source": [
    "i = 150\n",
    "fig, ax = plt.subplots(figsize=(10,10))\n",
    "ax.imshow(train['image_np'][i], cmap='gray')\n",
    "for cx, cy in keypoints:\n",
    "    x,y = train[cx][i], train[cy][i]\n",
    "    ax.plot(x,y, 'ro', color='red')\n",
    "plt.show()\n",
    "plt.close('all')"
   ]
  },
  {
   "cell_type": "code",
   "execution_count": 23,
   "metadata": {},
   "outputs": [
    {
     "data": {
      "text/html": [
       "<div>\n",
       "<style scoped>\n",
       "    .dataframe tbody tr th:only-of-type {\n",
       "        vertical-align: middle;\n",
       "    }\n",
       "\n",
       "    .dataframe tbody tr th {\n",
       "        vertical-align: top;\n",
       "    }\n",
       "\n",
       "    .dataframe thead th {\n",
       "        text-align: right;\n",
       "    }\n",
       "</style>\n",
       "<table border=\"1\" class=\"dataframe\">\n",
       "  <thead>\n",
       "    <tr style=\"text-align: right;\">\n",
       "      <th></th>\n",
       "      <th>ImageId</th>\n",
       "      <th>Image</th>\n",
       "    </tr>\n",
       "  </thead>\n",
       "  <tbody>\n",
       "    <tr>\n",
       "      <th>0</th>\n",
       "      <td>1</td>\n",
       "      <td>182 183 182 182 180 180 176 169 156 137 124 10...</td>\n",
       "    </tr>\n",
       "    <tr>\n",
       "      <th>1</th>\n",
       "      <td>2</td>\n",
       "      <td>76 87 81 72 65 59 64 76 69 42 31 38 49 58 58 4...</td>\n",
       "    </tr>\n",
       "    <tr>\n",
       "      <th>2</th>\n",
       "      <td>3</td>\n",
       "      <td>177 176 174 170 169 169 168 166 166 166 161 14...</td>\n",
       "    </tr>\n",
       "    <tr>\n",
       "      <th>3</th>\n",
       "      <td>4</td>\n",
       "      <td>176 174 174 175 174 174 176 176 175 171 165 15...</td>\n",
       "    </tr>\n",
       "    <tr>\n",
       "      <th>4</th>\n",
       "      <td>5</td>\n",
       "      <td>50 47 44 101 144 149 120 58 48 42 35 35 37 39 ...</td>\n",
       "    </tr>\n",
       "    <tr>\n",
       "      <th>...</th>\n",
       "      <td>...</td>\n",
       "      <td>...</td>\n",
       "    </tr>\n",
       "    <tr>\n",
       "      <th>1778</th>\n",
       "      <td>1779</td>\n",
       "      <td>101 101 101 100 100 97 97 98 102 149 214 206 1...</td>\n",
       "    </tr>\n",
       "    <tr>\n",
       "      <th>1779</th>\n",
       "      <td>1780</td>\n",
       "      <td>201 191 171 158 145 140 136 130 123 115 108 10...</td>\n",
       "    </tr>\n",
       "    <tr>\n",
       "      <th>1780</th>\n",
       "      <td>1781</td>\n",
       "      <td>28 28 29 30 31 32 33 34 39 44 46 46 49 54 61 7...</td>\n",
       "    </tr>\n",
       "    <tr>\n",
       "      <th>1781</th>\n",
       "      <td>1782</td>\n",
       "      <td>104 95 71 57 46 52 65 70 70 67 76 72 69 69 72 ...</td>\n",
       "    </tr>\n",
       "    <tr>\n",
       "      <th>1782</th>\n",
       "      <td>1783</td>\n",
       "      <td>63 61 64 66 66 64 65 70 69 70 77 83 63 34 22 2...</td>\n",
       "    </tr>\n",
       "  </tbody>\n",
       "</table>\n",
       "<p>1783 rows × 2 columns</p>\n",
       "</div>"
      ],
      "text/plain": [
       "      ImageId                                              Image\n",
       "0           1  182 183 182 182 180 180 176 169 156 137 124 10...\n",
       "1           2  76 87 81 72 65 59 64 76 69 42 31 38 49 58 58 4...\n",
       "2           3  177 176 174 170 169 169 168 166 166 166 161 14...\n",
       "3           4  176 174 174 175 174 174 176 176 175 171 165 15...\n",
       "4           5  50 47 44 101 144 149 120 58 48 42 35 35 37 39 ...\n",
       "...       ...                                                ...\n",
       "1778     1779  101 101 101 100 100 97 97 98 102 149 214 206 1...\n",
       "1779     1780  201 191 171 158 145 140 136 130 123 115 108 10...\n",
       "1780     1781  28 28 29 30 31 32 33 34 39 44 46 46 49 54 61 7...\n",
       "1781     1782  104 95 71 57 46 52 65 70 70 67 76 72 69 69 72 ...\n",
       "1782     1783  63 61 64 66 66 64 65 70 69 70 77 83 63 34 22 2...\n",
       "\n",
       "[1783 rows x 2 columns]"
      ]
     },
     "execution_count": 23,
     "metadata": {},
     "output_type": "execute_result"
    }
   ],
   "source": [
    "test"
   ]
  },
  {
   "cell_type": "code",
   "execution_count": null,
   "metadata": {},
   "outputs": [],
   "source": []
  }
 ],
 "metadata": {
  "kernelspec": {
   "display_name": "Python 3",
   "language": "python",
   "name": "python3"
  },
  "language_info": {
   "codemirror_mode": {
    "name": "ipython",
    "version": 3
   },
   "file_extension": ".py",
   "mimetype": "text/x-python",
   "name": "python",
   "nbconvert_exporter": "python",
   "pygments_lexer": "ipython3",
   "version": "3.8.5"
  }
 },
 "nbformat": 4,
 "nbformat_minor": 4
}
