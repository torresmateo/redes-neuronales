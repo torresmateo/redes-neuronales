{
 "cells": [
  {
   "cell_type": "markdown",
   "metadata": {},
   "source": [
    "<a href=\"https://colab.research.google.com/github/torresmateo/redes-neuronales/blob/master/Clase_2/Procesamiento_imagenes.ipynb\" target=\"_parent\">\n", 
    "  <img src=\"https://colab.research.google.com/assets/colab-badge.svg\" alt=\"Open In Colab\"/>\n", 
    "</a>\n", 
    "\n", 
    "# Procesamiento de imágenes\n",
    "\n",
    "este notebook permite entender y experimentar con la representación de imágenes en la computadora.\n",
    "Esta es una versión simplificada que no tiene en cuenta diferencias entre diversos formatos y no lidia con características como transparencia o compresión."
   ]
  },
  {
   "cell_type": "code",
   "execution_count": null,
   "metadata": {},
   "outputs": [],
   "source": [
    "import matplotlib.pyplot as plt\n",
    "import numpy as np\n",
    "from scipy.ndimage import gaussian_filter, maximum_filter, minimum_filter"
   ]
  },
  {
   "cell_type": "markdown",
   "metadata": {},
   "source": [
    "se define una función de utilidad para transformar una imágen a color a escala de grises"
   ]
  },
  {
   "cell_type": "code",
   "execution_count": null,
   "metadata": {},
   "outputs": [],
   "source": [
    "def rgb2gray(rgb):\n",
    "    return np.dot(rgb[...,:3], [0.2989, 0.5870, 0.1140])"
   ]
  },
  {
   "cell_type": "markdown",
   "metadata": {},
   "source": [
    "se lee una imágen del disco duro"
   ]
  },
  {
   "cell_type": "code",
   "execution_count": null,
   "metadata": {},
   "outputs": [],
   "source": [
    "image = plt.imread('data/yoda.jpeg')"
   ]
  },
  {
   "cell_type": "markdown",
   "metadata": {},
   "source": [
    "creamos una versión en escale de grises"
   ]
  },
  {
   "cell_type": "code",
   "execution_count": null,
   "metadata": {},
   "outputs": [],
   "source": [
    "image_gray = rgb2gray(image).astype(int)"
   ]
  },
  {
   "cell_type": "code",
   "execution_count": null,
   "metadata": {},
   "outputs": [],
   "source": [
    "plt.imshow(image_gray, cmap='gray')"
   ]
  },
  {
   "cell_type": "code",
   "execution_count": null,
   "metadata": {},
   "outputs": [],
   "source": [
    "image_gray"
   ]
  },
  {
   "cell_type": "code",
   "execution_count": null,
   "metadata": {},
   "outputs": [],
   "source": [
    "image_gray.shape"
   ]
  },
  {
   "cell_type": "markdown",
   "metadata": {},
   "source": [
    "la función `image_channel` nos permite extraer canales indviduales de la imagen"
   ]
  },
  {
   "cell_type": "code",
   "execution_count": null,
   "metadata": {},
   "outputs": [],
   "source": [
    "def image_channel(img, ax, channel='all'):\n",
    "    chs = ['r', 'g', 'b']\n",
    "    t = 'all' if channel == 'all' else channel\n",
    "    if channel != 'all':\n",
    "        n_img = np.zeros(img.shape)\n",
    "        n_img[:,:,chs.index(channel)] = img[:,:,chs.index(channel)]\n",
    "    else:\n",
    "        n_img = img\n",
    "    ax.set(title=t)\n",
    "    im = ax.imshow(n_img.astype(int))\n",
    "    ax.grid(False)\n",
    "    ax.get_xaxis().set_ticks([])\n",
    "    ax.get_yaxis().set_ticks([])"
   ]
  },
  {
   "cell_type": "code",
   "execution_count": null,
   "metadata": {},
   "outputs": [],
   "source": [
    "fix, ax = plt.subplots()\n",
    "image_channel(image, ax)\n",
    "plt.show()\n",
    "plt.close('all')"
   ]
  },
  {
   "cell_type": "code",
   "execution_count": null,
   "metadata": {},
   "outputs": [],
   "source": [
    "image.shape"
   ]
  },
  {
   "cell_type": "code",
   "execution_count": null,
   "metadata": {},
   "outputs": [],
   "source": [
    "image"
   ]
  },
  {
   "cell_type": "markdown",
   "metadata": {},
   "source": [
    "la función `swap_channels` nos permite intercambiar canales"
   ]
  },
  {
   "cell_type": "code",
   "execution_count": null,
   "metadata": {},
   "outputs": [],
   "source": [
    "def swap_channels(img, ax, a, b, c):\n",
    "    chs = ['r', 'g', 'b']\n",
    "    n_img = img.copy()\n",
    "    n_img[:,:,chs.index('r')] = img[:,:,chs.index(a)]\n",
    "    n_img[:,:,chs.index('g')] = img[:,:,chs.index(b)]\n",
    "    n_img[:,:,chs.index('b')] = img[:,:,chs.index(c)]\n",
    "    im = ax.imshow(n_img.astype(int))\n",
    "    ax.grid(False)\n",
    "    ax.get_xaxis().set_ticks([])\n",
    "    ax.get_yaxis().set_ticks([])"
   ]
  },
  {
   "cell_type": "code",
   "execution_count": null,
   "metadata": {},
   "outputs": [],
   "source": [
    "fig, ax = plt.subplots()\n",
    "swap_channels(image, ax, 'r','g','b')\n",
    "plt.show()\n",
    "plt.close('all')"
   ]
  },
  {
   "cell_type": "markdown",
   "metadata": {},
   "source": [
    "# Filtros simples"
   ]
  },
  {
   "cell_type": "code",
   "execution_count": null,
   "metadata": {},
   "outputs": [],
   "source": [
    "generated_image = np.eye(10) * 255\n",
    "\n",
    "gaussian = gaussian_filter(generated_image, 2)\n",
    "fig, axs = plt.subplots(1,2, figsize=(10,10))\n",
    "\n",
    "ax = axs[0]\n",
    "ax.imshow(generated_image, cmap='gray')\n",
    "ax.set_title('normal')\n",
    "ax.get_xaxis().set_ticks([])\n",
    "ax.get_yaxis().set_ticks([])\n",
    "\n",
    "ax = axs[1]\n",
    "ax.imshow(gaussian, cmap='gray')\n",
    "ax.set_title('Gaussian Filter')\n",
    "ax.get_xaxis().set_ticks([])\n",
    "ax.get_yaxis().set_ticks([])\n",
    "\n",
    "plt.show()\n",
    "plt.close('all')"
   ]
  },
  {
   "cell_type": "code",
   "execution_count": null,
   "metadata": {},
   "outputs": [],
   "source": [
    "generated_image"
   ]
  },
  {
   "cell_type": "code",
   "execution_count": null,
   "metadata": {},
   "outputs": [],
   "source": [
    "gaussian[:,:5]"
   ]
  },
  {
   "cell_type": "code",
   "execution_count": null,
   "metadata": {},
   "outputs": [],
   "source": [
    "generated_image = np.eye(10) * 255\n",
    "\n",
    "gaussian = maximum_filter(generated_image, 2)\n",
    "fig, axs = plt.subplots(1,2, figsize=(10,10))\n",
    "\n",
    "ax = axs[0]\n",
    "ax.imshow(generated_image, cmap='gray')\n",
    "ax.set_title('normal')\n",
    "ax.get_xaxis().set_ticks([])\n",
    "ax.get_yaxis().set_ticks([])\n",
    "\n",
    "ax = axs[1]\n",
    "ax.imshow(gaussian, cmap='gray')\n",
    "ax.set_title('Max Filter')\n",
    "ax.get_xaxis().set_ticks([])\n",
    "ax.get_yaxis().set_ticks([])\n",
    "\n",
    "plt.show()\n",
    "plt.close('all')"
   ]
  },
  {
   "cell_type": "code",
   "execution_count": null,
   "metadata": {},
   "outputs": [],
   "source": [
    "generated_image = np.eye(10) * 255\n",
    "\n",
    "gaussian = minimum_filter(generated_image, 2)\n",
    "fig, axs = plt.subplots(1,2, figsize=(10,10))\n",
    "\n",
    "ax = axs[0]\n",
    "ax.imshow(generated_image, cmap='gray')\n",
    "ax.set_title('normal')\n",
    "ax.get_xaxis().set_ticks([])\n",
    "ax.get_yaxis().set_ticks([])\n",
    "\n",
    "ax = axs[1]\n",
    "ax.imshow(gaussian, cmap='gray')\n",
    "ax.set_title('Min Filter')\n",
    "ax.get_xaxis().set_ticks([])\n",
    "ax.get_yaxis().set_ticks([])\n",
    "\n",
    "plt.show()\n",
    "plt.close('all')"
   ]
  }
 ],
 "metadata": {
  "colab": {
   "name": "[Clase 2] 1 - Procesamiento de Imágenes",
   "provenance": []
  },
  "kernelspec": {
   "display_name": "Python 3",
   "language": "python",
   "name": "python3"
  },
  "language_info": {
   "codemirror_mode": {
    "name": "ipython",
    "version": 3
   },
   "file_extension": ".py",
   "mimetype": "text/x-python",
   "name": "python",
   "nbconvert_exporter": "python",
   "pygments_lexer": "ipython3",
   "version": "3.8.2"
  }
 },
 "nbformat": 4,
 "nbformat_minor": 4
}
