{
 "cells": [
  {
   "cell_type": "markdown",
   "metadata": {
    "colab_type": "text",
    "id": "aIm8_aVLt8R2"
   },
   "source": [
    "<a href=\"https://colab.research.google.com/github/torresmateo/redes-neuronales/blob/master/Clase_2/Convoluciones.ipynb\" target=\"_parent\">\n",
    "  <img src=\"https://colab.research.google.com/assets/colab-badge.svg\" alt=\"Open In Colab\"/>\n",
    "</a>\n",
    "\n",
    "# Convoluciones \n",
    "\n",
    "En este notebook se intenta dar una explicación intuitiva de los filtros convolucionales que se usan en *deep learning*. No se explicará la matemática de las convoluciones, simplemente se darán ejemplos de el tipo de *features* que un filtro convolucional extrae de una imagen, y como esto puede ayudarnos a mejorar la calidad de nuestros modelos.\n",
    "\n",
    "Antes que nada, importamos las bibliotecas necesarias.\n",
    "\n"
   ]
  },
  {
   "cell_type": "code",
   "execution_count": null,
   "metadata": {
    "colab": {},
    "colab_type": "code",
    "id": "9KUlNr3mmw4h"
   },
   "outputs": [],
   "source": [
    "# Se incluyen las bibliotecas necesarias\n",
    "import numpy as np\n",
    "import matplotlib.pyplot as plt\n",
    "from scipy import signal  # signal nos permite usar una implementación de la convolución bidimensional\n",
    "import imageio  # esta biblioteca provee acceso rápido a varias imágenes que nos sirven para nuestros ejemplos\n",
    "plt.style.use('default')"
   ]
  },
  {
   "cell_type": "markdown",
   "metadata": {
    "colab_type": "text",
    "id": "qARqkz093svu"
   },
   "source": [
    "En la siguiente celda, se incluyen funciones útiles para visualizar lo que está ocurriendo con las imágenes. Esto no se explica en los slides, pero es bueno que intentes entender el código en la siguiente celda."
   ]
  },
  {
   "cell_type": "code",
   "execution_count": null,
   "metadata": {
    "colab": {},
    "colab_type": "code",
    "id": "UiuPbwlB3sOe"
   },
   "outputs": [],
   "source": [
    "def ver_ejemplo(img, filtro=None, expandir_canales=False, clase=''):\n",
    "    \"\"\"\n",
    "    Visualizar una imágen del dataset\n",
    "\n",
    "    Parameters\n",
    "    ----------\n",
    "    img : np.ndarray\n",
    "        Una matriz que contiene la imagen a mostrar\n",
    "    filtro : np.ndarray, opcional\n",
    "        El filtro convolucional que se aplicará a la imagen.\n",
    "        Por defecto, no se aplica ningún filtro a la imagen.\n",
    "    expandir_canales : int\n",
    "        Además de mostrar la imagen, mostrar los canales \n",
    "        individualmente.\n",
    "    clase : str, opcional\n",
    "        Si se desea, se puede asignar una clase como título \n",
    "        de la imágen.\n",
    "    \"\"\"\n",
    "\n",
    "    def imagen(img, ax, channel='all'):\n",
    "        chs = ['Rojo', 'Verde', 'Azul']\n",
    "        t = clase if channel == 'all' else channel\n",
    "        if channel != 'all':\n",
    "            n_img = np.zeros(img.shape)\n",
    "            n_img[:,:,chs.index(channel)] = img[:,:,chs.index(channel)]\n",
    "        else:\n",
    "            n_img = img\n",
    "        ax.set(title=t)\n",
    "        im = ax.imshow(n_img.astype(int))\n",
    "        ax.grid(False)\n",
    "        ax.get_xaxis().set_ticks([])\n",
    "        ax.get_yaxis().set_ticks([])\n",
    "\n",
    "    def filtrar(img, filtro):\n",
    "        n_img = np.zeros(img.shape)\n",
    "        for i in range(3):\n",
    "            n_img[:,:,i] = signal.convolve2d(img[:,:,i].astype(int), filtro, boundary='symm', mode='same')\n",
    "        return n_img\n",
    "\n",
    "    # determinar la cantidad de ax en la figura\n",
    "    rows, cols = 1, 1\n",
    "    if expandir_canales:\n",
    "        cols += 3\n",
    "    if filtro is not None:\n",
    "        rows += 1\n",
    "        # se aplica la convolución a la imagen\n",
    "        img_conv = np.absolute(filtrar(img, filtro))\n",
    "        img_conv = np.interp(img_conv, (img_conv.min(), img_conv.max()), (0, 255))\n",
    "    fig, axs = plt.subplots(rows, cols, figsize=(5*cols,3*rows), dpi=100)\n",
    "    #fig, axs = plt.subplots(rows, cols, dpi=100)\n",
    "    axs.shape = (rows, cols)\n",
    "    if rows == 1 and cols == 1:\n",
    "        imagen(img, axs)\n",
    "    else:\n",
    "        # if filtro is None:\n",
    "        #     axs.reshape(axs.shape[0],1)\n",
    "        # elif not expandir_canales:\n",
    "        #     print(axs.shape)\n",
    "        #     axs.reshape(1, axs.shape[0])\n",
    "        #     print(axs.shape)\n",
    "        imagen(img, axs[0, 0])\n",
    "    if expandir_canales:\n",
    "        imagen(img, axs[0, 1], 'Rojo')\n",
    "        imagen(img, axs[0, 2], 'Verde')\n",
    "        imagen(img, axs[0, 3], 'Azul')\n",
    "    if filtro is not None:\n",
    "        imagen(img_conv, axs[1,0])\n",
    "        if expandir_canales:\n",
    "            imagen(img_conv, axs[1, 1], 'Rojo')\n",
    "            imagen(img_conv, axs[1, 2], 'Verde')\n",
    "            imagen(img_conv, axs[1, 3], 'Azul')\n",
    "    plt.show()"
   ]
  },
  {
   "cell_type": "markdown",
   "metadata": {
    "colab_type": "text",
    "id": "LDGK721FXSr3"
   },
   "source": [
    "Cargamos una imagen que usaremos para ver el efecto de algunos filtros comunes"
   ]
  },
  {
   "cell_type": "code",
   "execution_count": null,
   "metadata": {
    "colab": {
     "base_uri": "https://localhost:8080/",
     "height": 289
    },
    "colab_type": "code",
    "id": "TK4KzCDuLB79",
    "outputId": "55a79412-735d-428b-8c7f-e6f782560e7a"
   },
   "outputs": [],
   "source": [
    "im = imageio.imread('https://github.com/torresmateo/penguin-tf-workshop/blob/master/img/house.jpg?raw=true')\n",
    "ver_ejemplo(im)"
   ]
  },
  {
   "cell_type": "markdown",
   "metadata": {
    "colab_type": "text",
    "id": "aoYkgXTfdVAs"
   },
   "source": [
    "# Algunos filtros\n",
    "\n",
    "En lo que queda de este notebook, se muestra el efecto de algunos filtros comunes a la foto de arriba.\n",
    "\n",
    "El primero es un [operador de Scharr](https://en.wikipedia.org/wiki/Sobel_operator#Alternative_operators) que se usa para detectar bordes en las imágenes."
   ]
  },
  {
   "cell_type": "code",
   "execution_count": null,
   "metadata": {
    "colab": {
     "base_uri": "https://localhost:8080/",
     "height": 543
    },
    "colab_type": "code",
    "id": "g-AYdwkrLCd4",
    "outputId": "25ab7b09-e9a8-40bd-fec8-4b0d867e714b"
   },
   "outputs": [],
   "source": [
    "filtro = np.array([[ -3-3j, 0-10j,  +3 -3j],\n",
    "                   [-10+0j, 0+ 0j, +10 +0j],\n",
    "                   [ -3+3j, 0+10j,  +3 +3j]])\n",
    "ver_ejemplo(im, filtro=filtro, expandir_canales=True)"
   ]
  },
  {
   "cell_type": "markdown",
   "metadata": {
    "colab_type": "text",
    "id": "YFjtsNZHeIVv"
   },
   "source": [
    "El siguiente es un [operador de Sobel](https://en.wikipedia.org/wiki/Sobel_operator), que se usa para detectar bordes verticales."
   ]
  },
  {
   "cell_type": "code",
   "execution_count": null,
   "metadata": {
    "colab": {
     "base_uri": "https://localhost:8080/",
     "height": 526
    },
    "colab_type": "code",
    "id": "BQ2DOM_YL9wS",
    "outputId": "13e0104a-91fc-4a61-aa40-4347898b2d4b"
   },
   "outputs": [],
   "source": [
    "filtro  = np.array([[-1, 0, 1],\n",
    "                    [-2, 0, 2],\n",
    "                    [-1, 0, 1]])\n",
    "ver_ejemplo(im, filtro=filtro, expandir_canales=True)"
   ]
  },
  {
   "cell_type": "markdown",
   "metadata": {
    "colab_type": "text",
    "id": "2ZIwxm5Xeavb"
   },
   "source": [
    "Para detectar bordes horizontales, podemos simplemente transponer el filtro anterior."
   ]
  },
  {
   "cell_type": "code",
   "execution_count": null,
   "metadata": {
    "colab": {
     "base_uri": "https://localhost:8080/",
     "height": 526
    },
    "colab_type": "code",
    "id": "V64-bfGFMShq",
    "outputId": "ddd59766-f4d2-457a-a84e-263d8b44ad02"
   },
   "outputs": [],
   "source": [
    "ver_ejemplo(im, filtro=filtro.T, expandir_canales=True)"
   ]
  },
  {
   "cell_type": "markdown",
   "metadata": {
    "colab_type": "text",
    "id": "dYD7KX44c09s"
   },
   "source": [
    "# Créditos\n",
    "\n",
    "La [imágen](https://www.pikrepo.com/freeu/blue-and-white-2-storey-house-under-blue-sky) original fue bajada de https://www.pikrepo.com y es royalty-free. \n"
   ]
  }
 ],
 "metadata": {
  "colab": {
   "name": "[Clase 2] 2 - Convoluciones",
   "provenance": []
  },
  "kernelspec": {
   "display_name": "Python 3",
   "language": "python",
   "name": "python3"
  },
  "language_info": {
   "codemirror_mode": {
    "name": "ipython",
    "version": 3
   },
   "file_extension": ".py",
   "mimetype": "text/x-python",
   "name": "python",
   "nbconvert_exporter": "python",
   "pygments_lexer": "ipython3",
   "version": "3.7.5"
  }
 },
 "nbformat": 4,
 "nbformat_minor": 4
}
