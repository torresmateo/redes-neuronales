{
  "nbformat": 4,
  "nbformat_minor": 0,
  "metadata": {
    "colab": {
      "name": "[Clase 3] 1 - Listas vs Generadores",
      "provenance": [],
      "collapsed_sections": []
    },
    "kernelspec": {
      "name": "python3",
      "display_name": "Python 3"
    }
  },
  "cells": [
    {
      "cell_type": "markdown",
      "metadata": {
        "id": "z2i9KtyS_SSe",
        "colab_type": "text"
      },
      "source": [
        "<a href=\"https://colab.research.google.com/github/torresmateo/redes-neuronales/blob/master/Clase_3/Listas_vs_Generadores.ipynb\" target=\"_parent\">\n",
        "  <img src=\"https://colab.research.google.com/assets/colab-badge.svg\" alt=\"Open In Colab\"/>\n",
        "</a>\n",
     
        "# Listas vs Generadores en Python\n",
        "\n",
        "Un concepto muy útil en python es el de un generador.\n",
        "\n",
        "De manera similar a una lista, se pueden usar en un `for` loop, pero tienen algunas diferencias (así como ventajas y desventajas). \n",
        "\n",
        "En este notebook, se exploran las diferencias entre listas y generadores de Python"
      ]
    },
    {
      "cell_type": "code",
      "metadata": {
        "id": "Wjr4DTpq-3xb",
        "colab_type": "code",
        "colab": {}
      },
      "source": [
        "import sys"
      ],
      "execution_count": null,
      "outputs": []
    },
    {
      "cell_type": "markdown",
      "metadata": {
        "id": "J20vt_Uu_sWa",
        "colab_type": "text"
      },
      "source": [
        "primero que nada, creamos dos objetos, una lista y un generador "
      ]
    },
    {
      "cell_type": "code",
      "metadata": {
        "id": "neMZOVmm-_Pt",
        "colab_type": "code",
        "colab": {}
      },
      "source": [
        "l = [i for i in range(1000)]\n",
        "g = (i for i in range(1000))"
      ],
      "execution_count": null,
      "outputs": []
    },
    {
      "cell_type": "code",
      "metadata": {
        "id": "6t2JPdi1_1-t",
        "colab_type": "code",
        "colab": {}
      },
      "source": [
        "print(f'Tipo de dato de la lista: {type(l)}')\n",
        "print(f'Tipo de dato del generador: {type(g)}')\n"
      ],
      "execution_count": null,
      "outputs": []
    },
    {
      "cell_type": "markdown",
      "metadata": {
        "id": "Ki6MU_KU_8N1",
        "colab_type": "text"
      },
      "source": [
        "### Uso de Memoria\n",
        "\n",
        "La principal ventaja de un generador es que no utiliza activamente la memoria del computador, ya que hay una función subyacente que genera los valores. "
      ]
    },
    {
      "cell_type": "code",
      "metadata": {
        "id": "d8AcMf-4_M4A",
        "colab_type": "code",
        "colab": {}
      },
      "source": [
        "print(f'Tamaño de la lista: {sys.getsizeof(l)}')\n",
        "print(f'Tamaño del generador: {sys.getsizeof(g)}')"
      ],
      "execution_count": null,
      "outputs": []
    },
    {
      "cell_type": "code",
      "metadata": {
        "id": "wRwbeSOP_Ozh",
        "colab_type": "code",
        "colab": {}
      },
      "source": [
        "sys.getsizeof(g)"
      ],
      "execution_count": null,
      "outputs": []
    },
    {
      "cell_type": "markdown",
      "metadata": {
        "id": "-He97lhACJki",
        "colab_type": "text"
      },
      "source": [
        "## Creando nuestros propios generadores\n",
        "\n",
        "En el fondo, un generador está asociado a una función que genera los valores a ser usados en la iteración. Es importante tener en cuenta que esto nos permite crear generadores infinitos (que de usarse sin cuidado, podrían generar un loop infinito en el programa).\n",
        "\n",
        "Primero, creamos una función que se usará como generador similar a la función `range` (en si misma un generador). \n",
        "\n",
        "Se usa `yield` para retornar cada uno de los valores, en lugar de `return`.\n"
      ]
    },
    {
      "cell_type": "code",
      "metadata": {
        "id": "cZZ__Ykh_QhO",
        "colab_type": "code",
        "colab": {}
      },
      "source": [
        "def generate_n(n):\n",
        "    i = 0\n",
        "    while i < n:\n",
        "        yield i\n",
        "        i += 1"
      ],
      "execution_count": null,
      "outputs": []
    },
    {
      "cell_type": "markdown",
      "metadata": {
        "id": "MdnzJRhMDIVn",
        "colab_type": "text"
      },
      "source": [
        "probamos el funcionamiento del generador"
      ]
    },
    {
      "cell_type": "code",
      "metadata": {
        "id": "olIHl-TADGSM",
        "colab_type": "code",
        "colab": {}
      },
      "source": [
        "for i in generate_n(5):\n",
        "    print(i)"
      ],
      "execution_count": null,
      "outputs": []
    },
    {
      "cell_type": "code",
      "metadata": {
        "id": "MPGnOYj3DMy2",
        "colab_type": "code",
        "colab": {}
      },
      "source": [
        "generate_n(5)"
      ],
      "execution_count": null,
      "outputs": []
    },
    {
      "cell_type": "markdown",
      "metadata": {
        "id": "YR_w8y4tGXvj",
        "colab_type": "text"
      },
      "source": [
        "desde luego, un generador no se limita a valores numéricos"
      ]
    },
    {
      "cell_type": "code",
      "metadata": {
        "id": "f-RGozlYECHc",
        "colab_type": "code",
        "colab": {}
      },
      "source": [
        "def reverse_string_chars(s):\n",
        "    l = len(s)\n",
        "    for i in range(l -1, -1, -1):\n",
        "        yield s[i]\n",
        "\n",
        "for c in reverse_string_chars('abcdefghi'):\n",
        "    print(c)"
      ],
      "execution_count": null,
      "outputs": []
    }
  ]
}
