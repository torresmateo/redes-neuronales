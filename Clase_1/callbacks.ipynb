{
 "cells": [
  {
   "cell_type": "markdown",
   "metadata": {
    "colab_type": "text",
    "id": "eun0e6QrdPJR"
   },
   "source": [
    "<a href=\"https://colab.research.google.com/github/torresmateo/redes-neuronales/blob/master/Clase_1/callbacks.ipynb\" target=\"_parent\">\n",
    "  <img src=\"https://colab.research.google.com/assets/colab-badge.svg\" alt=\"Open In Colab\"/>\n",
    "</a>\n",
    "\n",
    "# Callbacks\n",
    "\n",
    "En este notebook se muestran ejemplos de formas de trabajar más eficientemente con TensorFlow y Keras.\n",
    "\n",
    "Antes que nada, importamos las bibliotecas necesarias."
   ]
  },
  {
   "cell_type": "code",
   "execution_count": null,
   "metadata": {
    "colab": {
     "base_uri": "https://localhost:8080/",
     "height": 34
    },
    "colab_type": "code",
    "id": "pMJyuSkDetD-",
    "outputId": "ecbcc5b3-3961-4001-e6d5-a9f175da2cd0"
   },
   "outputs": [],
   "source": [
    "# Se incluyen las bibliotecas necesarias\n",
    "%tensorflow_version 2.x\n",
    "import numpy as np\n",
    "import tensorflow as tf\n",
    "import matplotlib.pyplot as plt\n",
    "plt.style.use('default')"
   ]
  },
  {
   "cell_type": "markdown",
   "metadata": {
    "colab_type": "text",
    "id": "CF_K6td_fQWt"
   },
   "source": [
    "# Controlar cunado se termina el entrenamiento\n",
    "\n",
    "Normalmente, determinar parámetros como la cantidad de *epochs* es muy inconveniente, sobre todo cuando entrenamos con un número muy bajo, pues hay que volver a entrenar el modelo y evaluar su comportamiento en las funciones de costo y métricas de calidad. Una estrategia válida (pero costosa) es entrenar el modelo por **muchisimos** *epochs*, intentando que el modelo llegue a hacer *overfitting*, y simplemente extraer lo aprendido por el modelo **antes** de que el *overfitting* sea evidente. Si bien es una estrategia efectiva, es tan costosa que se vuelve rápidamente inviable. \n",
    "\n",
    "Keras nos da una alternativa. Podemos usar una función para determinar si el resultado del aprendizaje nos es satisfactorio, y terminar el entrenamiento de forma temprana. Esto es un *callback*, es decir, una función que podemos definir, y que TensorFlow llama por nosotros.\n",
    "\n",
    "El código de la siguiente celda muestra un simple callback para terminar la ejecución del programa una vez que la precisión sea mayor a 70%"
   ]
  },
  {
   "cell_type": "code",
   "execution_count": null,
   "metadata": {
    "colab": {},
    "colab_type": "code",
    "id": "AN5JXwWpe9oA"
   },
   "outputs": [],
   "source": [
    "# heredamos de la clase `Callback` de keras\n",
    "class MiCallback(tf.keras.callbacks.Callback):\n",
    "    def on_epoch_end(self, epoch, logs={}):\n",
    "        if logs.get('accuracy') > 0.7:\n",
    "            print('\\nEl modelo ha llegado a 70% de precisión, terminando entrenamiento')\n",
    "            self.model.stop_training = True"
   ]
  },
  {
   "cell_type": "markdown",
   "metadata": {
    "colab_type": "text",
    "id": "E2jvVA7XeGAA"
   },
   "source": [
    "Vamos línea por línea.\n",
    "\n",
    "Primero que nada, creamos una clase que hereda de `tf.keras.callbacks.Callback`. \n",
    "\n",
    "De momento, solo definimos la llamada `on_epoch_end`, que se llama al finalizar cada uno de los *epochs* que configuramos en nuestro modelo. Los parámetros:\n",
    "* `self`: es un puntero a nuestro objeto de tipo `CallbackPenguin`, que nos permite acceder al modelo que vamos a usar más adelante.\n",
    "* `epoch`: es el número de *epoch* actual.\n",
    "* `logs`: es un diccionario que podemos revisar, que contiene información como la precisión, el valor de la función de costo y la precición del modelo en el *epoch* actual.\n",
    "\n",
    "Dentro de la función, simplemente preguntamos si la precisión (accuracy, o `acc`) es mayor a 0.7 (70%), y en caso de que lo sea, imprimimos un mensaje y indicamos que deseamos terminar el entrenamiendo de forma temprana, asignando `True` a `self.model.stop_training` (variable para parar el entrenamiento).\n",
    "\n",
    "Vea otras posibles opciones de *callbacks* en la [documentación](https://www.tensorflow.org/api_docs/python/tf/keras/callbacks/Callback)."
   ]
  },
  {
   "cell_type": "markdown",
   "metadata": {
    "colab_type": "text",
    "id": "VbTWPjFQfUKF"
   },
   "source": [
    "# Callbacks en la práctica\n",
    "\n",
    "Veamos como usar nuestro nuevo *callback* con el modelo del ejemplo anterior.\n",
    "\n",
    "Primero, cargamos y normalizamos el *dataset*"
   ]
  },
  {
   "cell_type": "code",
   "execution_count": null,
   "metadata": {
    "colab": {
     "base_uri": "https://localhost:8080/",
     "height": 51
    },
    "colab_type": "code",
    "id": "WD5Rut_6fWQL",
    "outputId": "c40ae15e-d767-4fe8-fd2e-1ac23491c01b"
   },
   "outputs": [],
   "source": [
    "(train_images, train_labels), (test_images, test_labels) = tf.keras.datasets.mnist.load_data()\n",
    "train_images = train_images/255.0\n",
    "test_images = test_images/255.0"
   ]
  },
  {
   "cell_type": "markdown",
   "metadata": {
    "colab_type": "text",
    "id": "NEon8Bozhl_a"
   },
   "source": [
    "Luego, creamos nuestro modelo"
   ]
  },
  {
   "cell_type": "code",
   "execution_count": null,
   "metadata": {
    "colab": {},
    "colab_type": "code",
    "id": "RZgcji6Dhhbb"
   },
   "outputs": [],
   "source": [
    "model = tf.keras.Sequential([tf.keras.layers.Flatten(input_shape=(28,28)),\n",
    "                             tf.keras.layers.Dense(100, activation='relu'),\n",
    "                             tf.keras.layers.Dense(10, activation='softmax')])"
   ]
  },
  {
   "cell_type": "markdown",
   "metadata": {
    "colab_type": "text",
    "id": "2R_ZZwDGiEvn"
   },
   "source": [
    "compilamos el modelo"
   ]
  },
  {
   "cell_type": "code",
   "execution_count": null,
   "metadata": {
    "colab": {},
    "colab_type": "code",
    "id": "ne3JXgQiiFqV"
   },
   "outputs": [],
   "source": [
    "model.compile(optimizer = 'adam', loss = 'sparse_categorical_crossentropy', metrics=['accuracy'])"
   ]
  },
  {
   "cell_type": "markdown",
   "metadata": {
    "colab_type": "text",
    "id": "FjIOdayJiwOq"
   },
   "source": [
    "Al momento de entrenar es donde necesitamos crear un objeto para nuestro *callback*, y indicamos que queremos usar el callback en el método `fit` de nuestro modelo."
   ]
  },
  {
   "cell_type": "code",
   "execution_count": null,
   "metadata": {
    "colab": {
     "base_uri": "https://localhost:8080/",
     "height": 136
    },
    "colab_type": "code",
    "id": "X7c0ARKFiXJm",
    "outputId": "7438490c-9e11-4dd3-bec7-809b3ca7d94b"
   },
   "outputs": [],
   "source": [
    "mi_callback = MiCallback()\n",
    "\n",
    "model.fit(train_images, train_labels, epochs=50, callbacks=[mi_callback])"
   ]
  },
  {
   "cell_type": "markdown",
   "metadata": {
    "colab_type": "text",
    "id": "I0v2iT65l6Nz"
   },
   "source": [
    "Como puede verse al ejecutar la celda de arriba, el modelo llega a más de 70% en el primer *epoch*, y luego el entrenamiento para gracias a nuestro *callback*."
   ]
  },
  {
   "cell_type": "markdown",
   "metadata": {
    "colab_type": "text",
    "id": "sGpVlo88mVsv"
   },
   "source": [
    "# Créditos\n",
    "\n",
    "Este notebook utiliza y modifica recursos del [tutorial de TensorFlow](https://www.tensorflow.org/tutorials/keras/classification) y está inspirado en contenido del curso online [TensorFlow in Practice](https://www.deeplearning.ai/tensorflow-in-practice/)."
   ]
  }
 ],
 "metadata": {
  "colab": {
   "name": "[Clase 1] 3 - Callbacks",
   "provenance": []
  },
  "kernelspec": {
   "display_name": "Python 3",
   "language": "python",
   "name": "python3"
  },
  "language_info": {
   "codemirror_mode": {
    "name": "ipython",
    "version": 3
   },
   "file_extension": ".py",
   "mimetype": "text/x-python",
   "name": "python",
   "nbconvert_exporter": "python",
   "pygments_lexer": "ipython3",
   "version": "3.7.5"
  }
 },
 "nbformat": 4,
 "nbformat_minor": 4
}