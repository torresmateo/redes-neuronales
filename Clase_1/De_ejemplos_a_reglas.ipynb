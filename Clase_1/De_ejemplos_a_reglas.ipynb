{
 "cells": [
  {
   "cell_type": "markdown",
   "metadata": {
    "colab_type": "text",
    "id": "mhOTKiz-4-Ly"
   },
   "source": [
    "<a href=\"https://colab.research.google.com/github/torresmateo/redes-neuronales/blob/master/Clase_1/De_ejemplos_a_reglas.ipynb\" target=\"_parent\">\n",
    "  <img src=\"https://colab.research.google.com/assets/colab-badge.svg\" alt=\"Open In Colab\"/>\n",
    "</a>\n",
    "\n",
    "# De ejemplos a reglas\n",
    "En este notebook se muestra como generar un programa a partir de ejemplos usando TensorFlow."
   ]
  },
  {
   "cell_type": "code",
   "execution_count": null,
   "metadata": {
    "colab": {
     "base_uri": "https://localhost:8080/",
     "height": 34
    },
    "colab_type": "code",
    "id": "WtyBxheo4uy3",
    "outputId": "48c37289-e048-4327-d2b1-c716c52e5f79"
   },
   "outputs": [],
   "source": [
    "# Se incluyen las bibliotecas necesarias\n",
    "%tensorflow_version 2.x\n",
    "import numpy as np\n",
    "import tensorflow as tf"
   ]
  },
  {
   "cell_type": "markdown",
   "metadata": {
    "colab_type": "text",
    "id": "Oj4lwAoZKJ4u"
   },
   "source": [
    "# Generar Datos de prueba\n",
    "\n",
    "Definimos una función simple y generamos ejemplos de prueba, en este caso:\n",
    "* las reglas son definidas por la función `f(x)`\n",
    "* la variable `xs` contiene todos los **inputs** \n",
    "* la variable `ys` contiene todos los **outputs**\n",
    "\n",
    "En este ejemplo, la función definida es $f(x) = x + 5$, y generamos un *dataset* con 20 ejemplos.\n"
   ]
  },
  {
   "cell_type": "code",
   "execution_count": null,
   "metadata": {
    "colab": {},
    "colab_type": "code",
    "id": "4SqOH6eS6-pb"
   },
   "outputs": [],
   "source": [
    "def f(x):\n",
    "  return x + 5\n",
    "xs = np.arange(0,10,0.5)\n",
    "ys = f(xs)"
   ]
  },
  {
   "cell_type": "code",
   "execution_count": null,
   "metadata": {
    "colab": {},
    "colab_type": "code",
    "id": "Mo08_c656gPt"
   },
   "outputs": [],
   "source": [
    "# reset de la sesión, en caso de querer reentrenar el modelo\n",
    "tf.keras.backend.clear_session()"
   ]
  },
  {
   "cell_type": "markdown",
   "metadata": {
    "colab_type": "text",
    "id": "8rJdVX1OBNlg"
   },
   "source": [
    "# Neurona Artificial\n",
    "Este modelo consta de una sola neurona, con un solo input. Se incluye la imágen de la presentación para recordar el concepto de neurona artifical.\n",
    "\n",
    "<img alt='perceptron' src='./img/Perceptron.png' width=\"300\"/>\n",
    "\n",
    "Recordar que la función que se ejecuta en la neurona es $\\varphi \\left( \\mathbf{w} \\cdot \\mathbf{x} + b \\right)$ donde:\n",
    "* $\\varphi$ es una función arbitratia, derivable, usualmente no lineal\n",
    "* $\\mathbf{w}$ son los coeficientes de cada *input* \n",
    "* $b$ es el *bias*, un parámetro entrenable que no depende de los valores de entrada.\n"
   ]
  },
  {
   "cell_type": "code",
   "execution_count": null,
   "metadata": {
    "colab": {},
    "colab_type": "code",
    "id": "X12H7qE5BLOV"
   },
   "outputs": [],
   "source": [
    "model = tf.keras.Sequential([tf.keras.layers.Dense(units=1, input_shape=[1])])"
   ]
  },
  {
   "cell_type": "markdown",
   "metadata": {
    "colab_type": "text",
    "id": "MiSV9Mx0Kr8K"
   },
   "source": [
    "Compilamos el modelo, indicando la función de optimización que deseamos utilizar. En este caso, la función es [Stochastic Gradient Descent](https://www.tensorflow.org/api_docs/python/tf/keras/optimizers/SGD?version=stable). \n",
    "\n",
    "Además, indicamos la función a optimizar (o *loss function*, pues se busca minimizar la \"perdida\" o *loss*). En este caso, usamos el [Mean Squared Error](https://www.tensorflow.org/api_docs/python/tf/keras/losses/MSE?version=stable) o \"error cuadrado promedio\". Esta función es adecuada para problemas de regresión, pues penaliza con más severidad a los valores más lejanos al valor de entrenamiento dado por los ejemplos."
   ]
  },
  {
   "cell_type": "code",
   "execution_count": null,
   "metadata": {
    "colab": {},
    "colab_type": "code",
    "id": "yo_FA8xD6qvk"
   },
   "outputs": [],
   "source": [
    "model.compile(optimizer='sgd', loss='mse')"
   ]
  },
  {
   "cell_type": "markdown",
   "metadata": {
    "colab_type": "text",
    "id": "c3YKW0zkMCcl"
   },
   "source": [
    "Podemos ver un resumen del modelo, que nos indica información útil como el detalle de cada *layer* y la cantidad de parámetros del modelo.\n",
    "\n",
    "En este caso contamos con una sola neurona, y por lo tanto 2 parámetros:\n",
    "1. el coeficiente que se multiplica al valor de entrada.\n",
    "2. el valor de *bias* que se suma a la combinación lineal de valores de entrada."
   ]
  },
  {
   "cell_type": "code",
   "execution_count": null,
   "metadata": {
    "colab": {
     "base_uri": "https://localhost:8080/",
     "height": 187
    },
    "colab_type": "code",
    "id": "pnqlOSYg68fl",
    "outputId": "952a7de2-d672-4cbe-e4cc-d4c809ebdd27"
   },
   "outputs": [],
   "source": [
    "model.summary()"
   ]
  },
  {
   "cell_type": "markdown",
   "metadata": {
    "colab_type": "text",
    "id": "qXHd27BWNMn4"
   },
   "source": [
    "# Entrenando la red neuronal\n",
    "El entrenamiento consiste en actualizar los parámetros del modelo basado en los ejemplos del *dataset*. En cada *epoch*, se muestra todo el *dataset* y se actualizan los parámetros del modelo. En este ejemplo, usamos 500 *epochs* para entrenar nuestro modelo."
   ]
  },
  {
   "cell_type": "code",
   "execution_count": null,
   "metadata": {
    "colab": {
     "base_uri": "https://localhost:8080/",
     "height": 1000
    },
    "colab_type": "code",
    "id": "mfQgCSrc7JEA",
    "outputId": "6b56b756-72df-4ddb-e161-087b8ec5fcf3"
   },
   "outputs": [],
   "source": [
    "model.fit(xs, ys, epochs=500)"
   ]
  },
  {
   "cell_type": "markdown",
   "metadata": {
    "colab_type": "text",
    "id": "DSqjB5udTNuk"
   },
   "source": [
    "Una vez que el modelo está entrenado, podemos determinar su presición imprimiendo un valor conocido, y comparándolo con el valor real generado por la\n",
    "función `f` que queremos aproximar."
   ]
  },
  {
   "cell_type": "code",
   "execution_count": null,
   "metadata": {
    "colab": {
     "base_uri": "https://localhost:8080/",
     "height": 34
    },
    "colab_type": "code",
    "id": "vE-OpwkF7LvF",
    "outputId": "ef0705c0-f41f-4b88-ad3d-6455f71c9afb"
   },
   "outputs": [],
   "source": [
    "print(model.predict([5]))"
   ]
  },
  {
   "cell_type": "markdown",
   "metadata": {
    "colab_type": "text",
    "id": "x8Vaa0F1Tk5L"
   },
   "source": [
    "Quizás sea sorpresivo que el valor no es exactamente igual a 10 luego de entrenar el modelo con 500 iteraciones del *dataset*.\n",
    "\n",
    "Por esto es importante recordar que las redes neuronales se\n",
    "entrenan calculando probabilidades, y el modelo aprendió que existe una relación entre los *inputs* y *outputs* que es altamente probable dados los ejemplos en el *dataset*. Aún así, \"altamente probable\" no significa \"exactamente\"."
   ]
  }
 ],
 "metadata": {
  "colab": {
   "name": "[Clase 1] 1 - De ejemplos a reglas.ipynb",
   "provenance": []
  },
  "kernelspec": {
   "display_name": "Python 3",
   "language": "python",
   "name": "python3"
  },
  "language_info": {
   "codemirror_mode": {
    "name": "ipython",
    "version": 3
   },
   "file_extension": ".py",
   "mimetype": "text/x-python",
   "name": "python",
   "nbconvert_exporter": "python",
   "pygments_lexer": "ipython3",
   "version": "3.7.5"
  }
 },
 "nbformat": 4,
 "nbformat_minor": 4
}
