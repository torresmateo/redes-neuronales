{
 "cells": [
  {
   "cell_type": "markdown",
   "metadata": {
    "colab_type": "text",
    "id": "r_0-AvxZoPbZ"
   },
   "source": [
    "<a href=\"https://colab.research.google.com/github/torresmateo/redes-neuronales/blob/master/Clase_1/Ejercicios/callbacks.ipynb\" target=\"_parent\">\n",
    "  <img src=\"https://colab.research.google.com/assets/colab-badge.svg\" alt=\"Open In Colab\"/>\n",
    "</a>\n",
    "\n",
    "\n",
    "# Fashion MNIST con terminación temprana\n",
    "\n",
    "Usando el modelo del ejercicio anterior, en este notebooks aprenderás a crear tu callback y terminar tempranamente el entrenamiento de tu modelo.\n",
    "\n",
    "# Ejercicio 1 - importar tensorflow\n",
    "\n",
    "primero que nada, importa las bibliotecas que consideres necesarias\n",
    "\n",
    "\n"
   ]
  },
  {
   "cell_type": "code",
   "execution_count": null,
   "metadata": {
    "colab": {},
    "colab_type": "code",
    "id": "leGFCW3GoG-7"
   },
   "outputs": [],
   "source": [
    "%tensorflow_version 2.x\n",
    "# tu código aquí (~1 línea)"
   ]
  },
  {
   "cell_type": "markdown",
   "metadata": {
    "colab_type": "text",
    "id": "XNJ4K209pePO"
   },
   "source": [
    "# Ejercicio 2 - crear el callback\n",
    "\n",
    "Escribe un callback que resulte en la terminación temprana del entrenamiento cuando el modelo llegue a más de 80% de precisión. Imprime un mensaje en la consola explicando el motivo de la terminación temprana y el número de *epoch* al usuario."
   ]
  },
  {
   "cell_type": "code",
   "execution_count": null,
   "metadata": {
    "colab": {},
    "colab_type": "code",
    "id": "di6AZP2vpa_T"
   },
   "outputs": [],
   "source": [
    "# tu código aquí (~5 líneas)"
   ]
  },
  {
   "cell_type": "markdown",
   "metadata": {
    "colab_type": "text",
    "id": "GGRYYM8sqCxs"
   },
   "source": [
    "# Ejercicio 3 - cargar el *dataset*\n",
    "\n",
    "Carga el *dataset* de Fashion MNIST y normaliza las imágenes del dataset (recuerda que se deben normalizar tanto las imágenes del *training set*  y las del *testing set*)"
   ]
  },
  {
   "cell_type": "code",
   "execution_count": null,
   "metadata": {
    "colab": {},
    "colab_type": "code",
    "id": "37TEO9VyqWlO"
   },
   "outputs": [],
   "source": [
    "# tu código aquí (~3 líneas)"
   ]
  },
  {
   "cell_type": "markdown",
   "metadata": {
    "colab_type": "text",
    "id": "nLRfyhl_qa-l"
   },
   "source": [
    "# Ejercicio 4 - crear el modelo\n",
    "\n",
    "Recrea el modelo del ejercicio anterior, y compila el modelo."
   ]
  },
  {
   "cell_type": "code",
   "execution_count": null,
   "metadata": {
    "colab": {},
    "colab_type": "code",
    "id": "I1ZwidAJqZdM"
   },
   "outputs": [],
   "source": [
    "# crear el modelo\n",
    "# tu código aquí (~3 líneas)\n",
    "\n",
    "# compilar el modelo\n",
    "# tu código aquí (~1 línea)"
   ]
  },
  {
   "cell_type": "markdown",
   "metadata": {
    "colab_type": "text",
    "id": "TzHM34ucqsPy"
   },
   "source": [
    "# Ejercicio 4 - entrenar el modelo\n",
    "\n",
    "Entrena el modelo usando el comando `fit` y el callback que escribiste en el ejercicio 2."
   ]
  },
  {
   "cell_type": "code",
   "execution_count": null,
   "metadata": {
    "colab": {},
    "colab_type": "code",
    "id": "Y4ncnNy2q2GX"
   },
   "outputs": [],
   "source": [
    "# tu código aquí (~2 líneas)"
   ]
  },
  {
   "cell_type": "markdown",
   "metadata": {
    "colab_type": "text",
    "id": "EL3XO-1Mq7Cy"
   },
   "source": [
    "Felicitaciones! \n",
    "\n",
    "Si terminaste estos ejercicios, te darás cuenta que más o menos 15 líneas de código son suficientes para implementar un clasificador de imágenes, incluyendo su entrenamiento con la opción de terminar tempranamente!\n",
    "\n",
    "Esto finaliza el primer día del workshop."
   ]
  }
 ],
 "metadata": {
  "colab": {
   "name": "[Clase 1] Ejercicio 2 - Callbacks",
   "provenance": []
  },
  "kernelspec": {
   "display_name": "Python 3",
   "language": "python",
   "name": "python3"
  },
  "language_info": {
   "codemirror_mode": {
    "name": "ipython",
    "version": 3
   },
   "file_extension": ".py",
   "mimetype": "text/x-python",
   "name": "python",
   "nbconvert_exporter": "python",
   "pygments_lexer": "ipython3",
   "version": "3.7.5"
  }
 },
 "nbformat": 4,
 "nbformat_minor": 4
}
